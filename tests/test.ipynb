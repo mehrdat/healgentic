{
 "cells": [
  {
   "cell_type": "code",
   "execution_count": 3,
   "id": "7d14af93",
   "metadata": {},
   "outputs": [],
   "source": [
    "data={'condition': 'Food Allergy', 'suggestions': [{'suggestion': 'Keep a detailed food diary to track any potential allergic triggers.', 'category': 'Lifestyle'}, {'suggestion': 'Eliminate the allergenic food from your diet.', 'category': 'Home Care'}, {'suggestion': 'Monitor your symptoms and seek medical attention if they worsen.', 'category': 'Monitoring'}, {'suggestion': 'Seek immediate medical attention if you experience symptoms such as dyspnea, wheezing/bronchospasm, stridor, or hypoxemia.', 'category': 'When to See a Doctor'}, {'suggestion': 'Seek immediate medical attention if you experience symptoms such as reduced blood pressure, hypotonia, collapse, syncope, or incontinence.', 'category': 'When to See a Doctor'}, {'suggestion': 'Consider allergy testing options with your doctor.', 'category': 'Lifestyle'}], 'important_note': 'The suggestions provided are general and should not be considered a personalized treatment plan. A formal plan should be created in consultation with a qualified healthcare professional.'}"
   ]
  },
  {
   "cell_type": "code",
   "execution_count": 7,
   "id": "b92366ce",
   "metadata": {},
   "outputs": [
    {
     "name": "stdout",
     "output_type": "stream",
     "text": [
      "Condition: Food Allergy\n",
      "Category: Lifestyle\n",
      "- Keep a detailed food diary to track any potential allergic triggers.\n",
      "- Consider allergy testing options with your doctor.\n",
      "Category: Home Care\n",
      "- Eliminate the allergenic food from your diet.\n",
      "Category: Monitoring\n",
      "- Monitor your symptoms and seek medical attention if they worsen.\n",
      "Category: When to See a Doctor\n",
      "- Seek immediate medical attention if you experience symptoms such as dyspnea, wheezing/bronchospasm, stridor, or hypoxemia.\n",
      "- Seek immediate medical attention if you experience symptoms such as reduced blood pressure, hypotonia, collapse, syncope, or incontinence.\n",
      "Important Note: The suggestions provided are general and should not be considered a personalized treatment plan. A formal plan should be created in consultation with a qualified healthcare professional.\n"
     ]
    }
   ],
   "source": [
    "cats={}\n",
    "for key , values in data.items():\n",
    "    if key == \"condition\":\n",
    "        print(f\"Condition: {values}\")\n",
    "    elif key == \"suggestions\":\n",
    "        cats = {suggestion['category']: [] for suggestion in values}\n",
    "        for suggestion in values:\n",
    "            #print(f\"- {suggestion['suggestion']} (Category: {suggestion['category']})\")\n",
    "            cats[suggestion['category']].append(suggestion['suggestion'])\n",
    "        for category, suggestions in cats.items():\n",
    "            print(f\"Category: {category}\")\n",
    "            for suggestion in suggestions:\n",
    "                print(f\"- {suggestion}\")\n",
    "    elif key == \"important_note\":\n",
    "        print(f\"Important Note: {values}\")\n",
    "    "
   ]
  },
  {
   "cell_type": "code",
   "execution_count": null,
   "id": "1f4c4eb4",
   "metadata": {},
   "outputs": [],
   "source": []
  }
 ],
 "metadata": {
  "kernelspec": {
   "display_name": "ag",
   "language": "python",
   "name": "python3"
  },
  "language_info": {
   "codemirror_mode": {
    "name": "ipython",
    "version": 3
   },
   "file_extension": ".py",
   "mimetype": "text/x-python",
   "name": "python",
   "nbconvert_exporter": "python",
   "pygments_lexer": "ipython3",
   "version": "3.12.9"
  }
 },
 "nbformat": 4,
 "nbformat_minor": 5
}
